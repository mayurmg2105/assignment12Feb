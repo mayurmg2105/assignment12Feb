{
 "cells": [
  {
   "cell_type": "code",
   "execution_count": null,
   "id": "efdef6bb-2378-46c9-b0d9-e44e60bc1131",
   "metadata": {},
   "outputs": [],
   "source": [
    "#Question 1: What is an exception in python? Write the difference between Exceptions and syntax errors."
   ]
  },
  {
   "cell_type": "code",
   "execution_count": null,
   "id": "58e8a865-4d84-4f58-a173-4c10b9b82547",
   "metadata": {},
   "outputs": [],
   "source": [
    "#Ans\n",
    "An exception is an event, which occurs during the execution of a program that disrupts the normal flow of the program's instructions.\n",
    "In general, when a Python script encounters a situation that it cannot cope with, it raises an exception."
   ]
  },
  {
   "cell_type": "code",
   "execution_count": 1,
   "id": "8b78301e-6cec-401a-909e-7fd4ade20338",
   "metadata": {},
   "outputs": [
    {
     "ename": "NameError",
     "evalue": "name 'logging' is not defined",
     "output_type": "error",
     "traceback": [
      "\u001b[0;31m---------------------------------------------------------------------------\u001b[0m",
      "\u001b[0;31mNameError\u001b[0m                                 Traceback (most recent call last)",
      "Cell \u001b[0;32mIn[1], line 2\u001b[0m\n\u001b[1;32m      1\u001b[0m \u001b[38;5;66;03m# Example of exception\u001b[39;00m\n\u001b[0;32m----> 2\u001b[0m \u001b[43mlogging\u001b[49m\u001b[38;5;241m.\u001b[39minfo(\u001b[38;5;124m'\u001b[39m\u001b[38;5;124mThis is Question 1 , Example 1\u001b[39m\u001b[38;5;124m'\u001b[39m)\n\u001b[1;32m      3\u001b[0m a \u001b[38;5;241m=\u001b[39m \u001b[38;5;241m23\u001b[39m\n\u001b[1;32m      4\u001b[0m a\u001b[38;5;241m/\u001b[39m\u001b[38;5;241m0\u001b[39m \u001b[38;5;66;03m#Division by zero is an exception\u001b[39;00m\n",
      "\u001b[0;31mNameError\u001b[0m: name 'logging' is not defined"
     ]
    }
   ],
   "source": [
    "# Example of exception\n",
    "logging.info('This is Question 1 , Example 1')\n",
    "a = 23\n",
    "a/0 #Division by zero is an exception"
   ]
  },
  {
   "cell_type": "code",
   "execution_count": 2,
   "id": "275e7ae3-8c6a-415b-b137-ea91f57e4ecc",
   "metadata": {},
   "outputs": [
    {
     "ename": "SyntaxError",
     "evalue": "invalid syntax. Perhaps you forgot a comma? (1664719280.py, line 4)",
     "output_type": "error",
     "traceback": [
      "\u001b[0;36m  Cell \u001b[0;32mIn[2], line 4\u001b[0;36m\u001b[0m\n\u001b[0;31m    print(a b) #incorrect syntax here will raise syntax error\u001b[0m\n\u001b[0m          ^\u001b[0m\n\u001b[0;31mSyntaxError\u001b[0m\u001b[0;31m:\u001b[0m invalid syntax. Perhaps you forgot a comma?\n"
     ]
    }
   ],
   "source": [
    "# Example of syntax error\n",
    "a = 2\n",
    "b = 3\n",
    "print(a b) #incorrect syntax here will raise syntax error"
   ]
  },
  {
   "cell_type": "code",
   "execution_count": null,
   "id": "a0a31b7d-fe2c-4e0e-ae1c-8e9e58b907ab",
   "metadata": {},
   "outputs": [],
   "source": [
    "#Question 2: What happens if exception is not handled? Explain with an example."
   ]
  },
  {
   "cell_type": "code",
   "execution_count": null,
   "id": "895cc46b-13c3-4fbf-b510-1d5ea112de65",
   "metadata": {},
   "outputs": [],
   "source": [
    "#Answer : If Exception is not handled the code below the exception will not execute at all. It will stop the program at exception."
   ]
  },
  {
   "cell_type": "code",
   "execution_count": null,
   "id": "04f887b6-88f7-4b4c-bcc8-84c084aab922",
   "metadata": {},
   "outputs": [],
   "source": [
    "logging.info('This is Question 2 start')\n",
    "a = 56\n",
    "print(a/0) # This will cause Zero Division Error\n",
    "print(a+23) # None of these code and below lines will not excute because exception was not handled\n",
    "print('This will not execute') # Will not execute because exception not handled"
   ]
  },
  {
   "cell_type": "code",
   "execution_count": null,
   "id": "2a259751-d184-46d8-b12e-1ee89b07a506",
   "metadata": {},
   "outputs": [],
   "source": [
    "#Question 3: Which Python Statements are used to catch and handle exceptions? Explain with an example."
   ]
  },
  {
   "cell_type": "code",
   "execution_count": null,
   "id": "fd2fed1c-08d6-414d-b8a2-dd587c4cac44",
   "metadata": {},
   "outputs": [],
   "source": [
    "Answer : The try and except block in Python is used to catch and handle exceptions."
   ]
  },
  {
   "cell_type": "code",
   "execution_count": 3,
   "id": "084b3e3d-f0d3-4d6e-8849-8d22a6f726ae",
   "metadata": {},
   "outputs": [
    {
     "ename": "NameError",
     "evalue": "name 'logging' is not defined",
     "output_type": "error",
     "traceback": [
      "\u001b[0;31m---------------------------------------------------------------------------\u001b[0m",
      "\u001b[0;31mNameError\u001b[0m                                 Traceback (most recent call last)",
      "Cell \u001b[0;32mIn[3], line 2\u001b[0m\n\u001b[1;32m      1\u001b[0m \u001b[38;5;66;03m# I'm Creating a file example reading exception handling\u001b[39;00m\n\u001b[0;32m----> 2\u001b[0m \u001b[43mlogging\u001b[49m\u001b[38;5;241m.\u001b[39minfo(\u001b[38;5;124m'\u001b[39m\u001b[38;5;124mThis is Start of Question 3\u001b[39m\u001b[38;5;124m'\u001b[39m)\n\u001b[1;32m      3\u001b[0m \u001b[38;5;28;01mtry\u001b[39;00m:\n\u001b[1;32m      4\u001b[0m     \u001b[38;5;66;03m# This code will be tried for execution\u001b[39;00m\n\u001b[1;32m      5\u001b[0m     \u001b[38;5;28;01mwith\u001b[39;00m \u001b[38;5;28mopen\u001b[39m(\u001b[38;5;124m'\u001b[39m\u001b[38;5;124msample.txt\u001b[39m\u001b[38;5;124m'\u001b[39m,\u001b[38;5;124m'\u001b[39m\u001b[38;5;124mr\u001b[39m\u001b[38;5;124m'\u001b[39m) \u001b[38;5;28;01mas\u001b[39;00m f:\n",
      "\u001b[0;31mNameError\u001b[0m: name 'logging' is not defined"
     ]
    }
   ],
   "source": [
    "# I'm Creating a file example reading exception handling\n",
    "logging.info('This is Start of Question 3')\n",
    "try:\n",
    "    # This code will be tried for execution\n",
    "    with open('sample.txt','r') as f:\n",
    "        print(f.read())\n",
    "        logging.info('Try block from question 3 executed')\n",
    "\n",
    "except Exception as e:\n",
    "    # Exception will be caught here and message will display\n",
    "    print('There is exception in this code:',e)\n",
    "    logging.exception('Except block from Question 3 executed')\n",
    "finally:\n",
    "    # This code will execute regardless wether try block executes or not\n",
    "    a = 23\n",
    "    b = 45\n",
    "    print(f'a={a}, b= {b}, a*b ={a*b}')\n",
    "    logging.info('Finally Block from Question 3 executed')"
   ]
  },
  {
   "cell_type": "code",
   "execution_count": null,
   "id": "bff335ac-1c9f-4008-9a11-4434df128d7a",
   "metadata": {},
   "outputs": [],
   "source": [
    "Question 4\n",
    "\n",
    "Question 4 : Explain with an example:\n",
    "1.Try and else\n",
    "2.finally\n",
    "3.raise"
   ]
  },
  {
   "cell_type": "code",
   "execution_count": 4,
   "id": "a6abf829-07d1-4c13-97d1-4947d9f3f73c",
   "metadata": {},
   "outputs": [],
   "source": [
    "#1) Try and else : Try block will execute if no exceptions. If no exceptions only then else block is executed. If exception occured except block will get executed"
   ]
  },
  {
   "cell_type": "code",
   "execution_count": 5,
   "id": "867e85b6-5adb-4902-9580-1827e38cd9c5",
   "metadata": {},
   "outputs": [],
   "source": [
    "# creating a custom function for division with Try, Except ,Else blocks\n",
    "def divide(a,b):\n",
    "    \"\"\"\n",
    "    This is division function with excption handling\n",
    "    \"\"\"\n",
    "    logging.info('This is Start of function divide')\n",
    "    try:\n",
    "        # Try block will execute if there is no exception\n",
    "        result = a/b\n",
    "        print('Try Block Executed.')\n",
    "        logging.info('Try Block executed')\n",
    "    except Exception as e:\n",
    "        # Except block will execute if exception found\n",
    "        print('Exception occured : ',e)\n",
    "        logging.exception('Except block executed')\n",
    "    else:\n",
    "        # This block will execute only if try block executed\n",
    "        print('Else Block Executed')\n",
    "        logging.info('Else Block executed')\n",
    "        return result"
   ]
  },
  {
   "cell_type": "code",
   "execution_count": 6,
   "id": "b421c0f8-ad6c-4c11-8514-e3be760ff8c9",
   "metadata": {},
   "outputs": [
    {
     "ename": "NameError",
     "evalue": "name 'logging' is not defined",
     "output_type": "error",
     "traceback": [
      "\u001b[0;31m---------------------------------------------------------------------------\u001b[0m",
      "\u001b[0;31mNameError\u001b[0m                                 Traceback (most recent call last)",
      "Cell \u001b[0;32mIn[6], line 2\u001b[0m\n\u001b[1;32m      1\u001b[0m \u001b[38;5;66;03m# Test Case 1 : Both are numbers excluding 0\u001b[39;00m\n\u001b[0;32m----> 2\u001b[0m \u001b[43mdivide\u001b[49m\u001b[43m(\u001b[49m\u001b[38;5;241;43m5\u001b[39;49m\u001b[43m,\u001b[49m\u001b[38;5;241;43m4\u001b[39;49m\u001b[43m)\u001b[49m\n",
      "Cell \u001b[0;32mIn[5], line 6\u001b[0m, in \u001b[0;36mdivide\u001b[0;34m(a, b)\u001b[0m\n\u001b[1;32m      2\u001b[0m \u001b[38;5;28;01mdef\u001b[39;00m \u001b[38;5;21mdivide\u001b[39m(a,b):\n\u001b[1;32m      3\u001b[0m     \u001b[38;5;124;03m\"\"\"\u001b[39;00m\n\u001b[1;32m      4\u001b[0m \u001b[38;5;124;03m    This is division function with excption handling\u001b[39;00m\n\u001b[1;32m      5\u001b[0m \u001b[38;5;124;03m    \"\"\"\u001b[39;00m\n\u001b[0;32m----> 6\u001b[0m     \u001b[43mlogging\u001b[49m\u001b[38;5;241m.\u001b[39minfo(\u001b[38;5;124m'\u001b[39m\u001b[38;5;124mThis is Start of function divide\u001b[39m\u001b[38;5;124m'\u001b[39m)\n\u001b[1;32m      7\u001b[0m     \u001b[38;5;28;01mtry\u001b[39;00m:\n\u001b[1;32m      8\u001b[0m         \u001b[38;5;66;03m# Try block will execute if there is no exception\u001b[39;00m\n\u001b[1;32m      9\u001b[0m         result \u001b[38;5;241m=\u001b[39m a\u001b[38;5;241m/\u001b[39mb\n",
      "\u001b[0;31mNameError\u001b[0m: name 'logging' is not defined"
     ]
    }
   ],
   "source": [
    "# Test Case 1 : Both are numbers excluding 0\n",
    "divide(5,4)"
   ]
  },
  {
   "cell_type": "code",
   "execution_count": null,
   "id": "aba24f13-1327-4fea-a3b5-adc09c440d2e",
   "metadata": {},
   "outputs": [],
   "source": [
    "#2)Finally : This code block will always execute .Regardless wether try, except, else blocks are executed"
   ]
  },
  {
   "cell_type": "code",
   "execution_count": 7,
   "id": "596ffce8-61cb-4e1a-abd4-a38462d21ca5",
   "metadata": {},
   "outputs": [
    {
     "ename": "NameError",
     "evalue": "name 'logging' is not defined",
     "output_type": "error",
     "traceback": [
      "\u001b[0;31m---------------------------------------------------------------------------\u001b[0m",
      "\u001b[0;31mNameError\u001b[0m                                 Traceback (most recent call last)",
      "Cell \u001b[0;32mIn[7], line 1\u001b[0m\n\u001b[0;32m----> 1\u001b[0m \u001b[43mlogging\u001b[49m\u001b[38;5;241m.\u001b[39minfo(\u001b[38;5;124m'\u001b[39m\u001b[38;5;124mExplaining Finally block code of Question 3\u001b[39m\u001b[38;5;124m'\u001b[39m)\n\u001b[1;32m      2\u001b[0m \u001b[38;5;28;01mtry\u001b[39;00m:\n\u001b[1;32m      3\u001b[0m     \u001b[38;5;66;03m# Try block executes if no exception occurs\u001b[39;00m\n\u001b[1;32m      4\u001b[0m     a \u001b[38;5;241m=\u001b[39m \u001b[38;5;241m1\u001b[39m\n",
      "\u001b[0;31mNameError\u001b[0m: name 'logging' is not defined"
     ]
    }
   ],
   "source": [
    "logging.info('Explaining Finally block code of Question 3')\n",
    "try:\n",
    "    # Try block executes if no exception occurs\n",
    "    a = 1\n",
    "    b = '23'\n",
    "    c = a + b\n",
    "    print(c)\n",
    "    logging.info('Try Block executed')\n",
    "except Exception as e:\n",
    "    # Except block will execute if exception occurs\n",
    "    print('Exception Occured :',e)\n",
    "    logging.exception('Except block executed')\n",
    "finally:\n",
    "    # Finally Block will always execute regardless of exception found or not\n",
    "    print('This Finally Block will always be executed')\n",
    "    logging.info('Finally Block executed')"
   ]
  },
  {
   "cell_type": "code",
   "execution_count": 8,
   "id": "566f0ec8-23d6-445f-bf13-a1d6c8e2b214",
   "metadata": {},
   "outputs": [],
   "source": [
    "#3)raise : Python raise Keyword is used to raise exceptions or errors. The raise keyword raises an error and stops the control flow of the program. It is used to bring up the current exception in an exception handler so that it can be handled further up the call stack."
   ]
  },
  {
   "cell_type": "code",
   "execution_count": 9,
   "id": "f7951a6e-6ee0-4e9d-a42a-8442527a0c59",
   "metadata": {},
   "outputs": [],
   "source": [
    "# Take input as mobile number and raise error if it is not 10 digits and numeric\n",
    "def mob_num():\n",
    "    logging.info('This is start of mob_num function from Question 3 Raise explaination')\n",
    "    mob = input('Enter Mobile number : ')\n",
    "    print('The moblie number entered is',mob)\n",
    "    # Check if length of mobile number is 10 digits and length is 10 digits\n",
    "    if len(mob)!=10 or mob.isnumeric()!= True:\n",
    "        logging.exception('Exception occured invalid mobile number')\n",
    "        raise Exception('Invalid Mobile number is entered') "
   ]
  },
  {
   "cell_type": "code",
   "execution_count": null,
   "id": "079fc3f6-1856-442f-a02f-b319a97ca6f6",
   "metadata": {},
   "outputs": [],
   "source": [
    "#Question 5 : What are custom Exceptions in python ? Why do we need Custom Exceptions? Explain with an Example."
   ]
  },
  {
   "cell_type": "code",
   "execution_count": 10,
   "id": "f8139a1f-b813-4c91-b793-8895e5f7403a",
   "metadata": {},
   "outputs": [],
   "source": [
    "#Answer: Built-in exceptions offer information about Python-related problems, and custom exceptions will add information about project-related problems. Example percentage value should always be between 0 to 100"
   ]
  },
  {
   "cell_type": "code",
   "execution_count": 11,
   "id": "8190f92b-68f8-4b17-b4f5-2134cb08c6ee",
   "metadata": {},
   "outputs": [],
   "source": [
    "\n",
    "# Creating a custom class for custom exception\n",
    "class pcterror(Exception):\n",
    "    def __init__(self,msg):\n",
    "        self.msg = msg"
   ]
  },
  {
   "cell_type": "code",
   "execution_count": 12,
   "id": "753e3d0d-6987-4f93-8926-98511a4a14a9",
   "metadata": {},
   "outputs": [
    {
     "ename": "NameError",
     "evalue": "name 'logging' is not defined",
     "output_type": "error",
     "traceback": [
      "\u001b[0;31m---------------------------------------------------------------------------\u001b[0m",
      "\u001b[0;31mNameError\u001b[0m                                 Traceback (most recent call last)",
      "Cell \u001b[0;32mIn[12], line 3\u001b[0m\n\u001b[1;32m      1\u001b[0m \u001b[38;5;66;03m# Check if percentage marks of entered is valid or not\u001b[39;00m\n\u001b[1;32m      2\u001b[0m \u001b[38;5;66;03m# Case 1 : Percentage between 0 and 100\u001b[39;00m\n\u001b[0;32m----> 3\u001b[0m \u001b[43mlogging\u001b[49m\u001b[38;5;241m.\u001b[39minfo(\u001b[38;5;124m'\u001b[39m\u001b[38;5;124mQuestion 5 , case 1 started\u001b[39m\u001b[38;5;124m'\u001b[39m)\n\u001b[1;32m      4\u001b[0m pct \u001b[38;5;241m=\u001b[39m \u001b[38;5;241m85\u001b[39m\n\u001b[1;32m      5\u001b[0m \u001b[38;5;66;03m# Below is custom exception which checks if percentage is in between 0 and 100\u001b[39;00m\n",
      "\u001b[0;31mNameError\u001b[0m: name 'logging' is not defined"
     ]
    }
   ],
   "source": [
    "# Check if percentage marks of entered is valid or not\n",
    "# Case 1 : Percentage between 0 and 100\n",
    "logging.info('Question 5 , case 1 started')\n",
    "pct = 85\n",
    "# Below is custom exception which checks if percentage is in between 0 and 100\n",
    "if pct<0 or pct>100:\n",
    "    logging.error('Percentage not in range')\n",
    "    raise pcterror('Invalid percentage entered') \n",
    "else:\n",
    "    print('Percentage marks of student is : ',pct)\n",
    "    logging.info('No Error occured')"
   ]
  },
  {
   "cell_type": "code",
   "execution_count": 13,
   "id": "c7f11257-269a-4fdb-9010-c63aa068d9c8",
   "metadata": {},
   "outputs": [],
   "source": [
    "#Question 6 : Create a custom exception class . Use this class to handle exception"
   ]
  },
  {
   "cell_type": "code",
   "execution_count": null,
   "id": "443c2364-4c71-43fb-af8e-4da4d66468df",
   "metadata": {},
   "outputs": [],
   "source": [
    "#\n",
    "Answer : I'm Creating a custom exception to validate PAN Card number Below are rules\n",
    "Length of Characters must be 10\n",
    "First 5 characters string out of which first 3 are random\n",
    "The fourth character of PAN represents the status of the PAN holder must be from ['P','C','H', 'F', 'A', 'T', 'B', 'L', 'J', 'G']\n",
    "5th Character must be same as First Letter of surname\n",
    "Next 4 characters (from 6 to 9) should be number\n",
    "Last character should be a alphabet"
   ]
  },
  {
   "cell_type": "code",
   "execution_count": 14,
   "id": "567fbfb9-3125-4538-8ef4-13dd49b8037c",
   "metadata": {},
   "outputs": [],
   "source": [
    "#Creating a custom exception class to validate PAN Card number\n",
    "\n",
    "class validatePAN(Exception):\n",
    "    # This class ValidatePAN is child of Parent class Exception\n",
    "    def __init__(self, msg):\n",
    "        self.msg = msg"
   ]
  },
  {
   "cell_type": "code",
   "execution_count": 15,
   "id": "b2f9e87e-ede5-4910-acd8-0d8486844bf0",
   "metadata": {},
   "outputs": [],
   "source": [
    "# Custon Definition to validate pan number\n",
    "def validate_pan_number(surname,pan):\n",
    "\n",
    "    logging.info('Validate pan function started')\n",
    "    \n",
    "    # Condition 1 Check if Surname is entered alphabetic\n",
    "    if not surname.isalpha():\n",
    "        logging.error('Surname error , Surname cannot have numbers')\n",
    "        raise validatePAN('Surname cannot consist of numbers')\n",
    "    \n",
    "    # Condition 2 Check PAN Card Length it must be = 10\n",
    "    elif len(pan)!=10:\n",
    "        logging.error('PAN Number length is not equal to 10')\n",
    "        raise validatePAN('Length of PAN Card should be 10 digits')\n",
    "    \n",
    "    # Condition 3 first 3 charaters should be letters\n",
    "    elif not pan[0:2].isalpha():\n",
    "        logging.error('First 3 letters of PAN Number are not characters')\n",
    "        raise validatePAN('First Three characters of Pan Card Must be Letters')\n",
    "    \n",
    "    # Condition 4 Fourth letters must belong in ['P','C','H', 'F', 'A', 'T', 'B', 'L', 'J', 'G'] \n",
    "    elif pan[3] not in ['P','C','H', 'F', 'A', 'T', 'B', 'L', 'J', 'G']:\n",
    "        logging.error('PAN Category invalid')\n",
    "        raise validatePAN(\"4th Letter must be any of ['P','C','H', 'F', 'A', 'T', 'B', 'L', 'J', 'G']\")\n",
    "    \n",
    "    # Condition 5 Fifth letter of PAN Card must match with 1st letter of surname \n",
    "    # Case Unification done if characters enterd in different case\n",
    "    elif surname[0].upper()!=pan[4].upper():\n",
    "        logging.error('1st Letter of Surname and 5th Letter of PAN not matching')\n",
    "        raise validatePAN(\"First Digit of surname not matching with 5th Letter of pan\")\n",
    "    \n",
    "    # Condition 6 Next 4 characters should be numeric \n",
    "    elif not pan[5:9].isnumeric():\n",
    "        logging.error('Characters 6 to 9 not numeric')\n",
    "        raise validatePAN(\"Characters from 6 to 9 should be numbers\")\n",
    "    \n",
    "    # Condition 7 Last Character must be alphabet\n",
    "    elif not pan[-1].isalpha():\n",
    "        logging.error('Last character in not an alphabet')\n",
    "        raise validatePAN(\"Last Character of PAN must be a Alphabet\")\n",
    "    \n",
    "    # If all above condition satisfy Pan Number is valid\n",
    "    else:\n",
    "        print('PAN Number is valid')\n",
    "        logging.info('PAN Card number is Valid')"
   ]
  },
  {
   "cell_type": "code",
   "execution_count": null,
   "id": "f9bdecf8-295e-463b-a363-c077c22ee9d6",
   "metadata": {},
   "outputs": [],
   "source": []
  }
 ],
 "metadata": {
  "kernelspec": {
   "display_name": "Python 3 (ipykernel)",
   "language": "python",
   "name": "python3"
  },
  "language_info": {
   "codemirror_mode": {
    "name": "ipython",
    "version": 3
   },
   "file_extension": ".py",
   "mimetype": "text/x-python",
   "name": "python",
   "nbconvert_exporter": "python",
   "pygments_lexer": "ipython3",
   "version": "3.10.8"
  }
 },
 "nbformat": 4,
 "nbformat_minor": 5
}
